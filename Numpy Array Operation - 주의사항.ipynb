{
  "cells": [
    {
      "metadata": {
        "collapsed": true
      },
      "cell_type": "markdown",
      "source": "## numpy array 로 행렬 및 벡터 연산시 주의 사항\n\n* 벡터와 벡터 연산시, 두 벡터의 모양이 같아야 합니다. 예를 들어, (3,)과 (3,1)은 다른 모양으로 간주되어, 일반 요소간 연산이 아닌 broadcasting 연산이 수행됩니다.)"
    },
    {
      "metadata": {
        "trusted": true
      },
      "cell_type": "code",
      "source": "import numpy as np\nX = np.arange(30).reshape(10,3)\ny = X[:,2:3]\nprint('X shape : ', X.shape)\nprint('y shape : ', y.shape)\n\nxy_add = X[:,0] + y  # This is wrong operation\nxy_mul = X[:,0] * y  # This is wrong operation\nprint(\"This is not the element-wise addition/multiplication between vectors, but broadcasting operation\")\nprint('X[:,0] + y shape : ', xy_add.shape)\nprint('X[:,0] * y shape : ', xy_mul.shape)",
      "execution_count": 10,
      "outputs": [
        {
          "output_type": "stream",
          "text": "X shape :  (10, 3)\ny shape :  (10, 1)\nThis is not the element-wise addition/multiplication between vectors, but broadcasting operation\nX[:,0] + y shape :  (10, 10)\nX[:,0] * y shape :  (10, 10)\n",
          "name": "stdout"
        }
      ]
    },
    {
      "metadata": {
        "trusted": true
      },
      "cell_type": "code",
      "source": "y = X[:,2]\nprint('y shape : ', y.shape)\nxy2_add = X[:,0] + y\nxy2_mul = X[:,0] * y  \nprint('X[:,0]+y shape : ', xy2_add.shape)\nprint('X[:,0]*y shape : ', xy2_mul.shape)",
      "execution_count": 11,
      "outputs": [
        {
          "output_type": "stream",
          "text": "y shape :  (10,)\nX[:,0]+y shape :  (10,)\nX[:,0]*y shape :  (10,)\n",
          "name": "stdout"
        }
      ]
    },
    {
      "metadata": {},
      "cell_type": "markdown",
      "source": "* 행렬과 벡터 곱셈은 numpy.dot( , )를 사용합니다."
    },
    {
      "metadata": {
        "trusted": true
      },
      "cell_type": "code",
      "source": "theta = np.zeros(3)\nprint('X shape : ', X.shape)\nprint('theta shape : ', theta.shape)\nxt = np.dot(X,theta)\nprint('X*theta shape : ', xt.shape)",
      "execution_count": 13,
      "outputs": [
        {
          "output_type": "stream",
          "text": "X shape :  (10, 3)\ntheta shape :  (3,)\nX*theta shape :  (10,)\n",
          "name": "stdout"
        }
      ]
    }
  ],
  "metadata": {
    "kernelspec": {
      "name": "python36",
      "display_name": "Python 3.6",
      "language": "python"
    },
    "language_info": {
      "mimetype": "text/x-python",
      "nbconvert_exporter": "python",
      "name": "python",
      "pygments_lexer": "ipython3",
      "version": "3.6.6",
      "file_extension": ".py",
      "codemirror_mode": {
        "version": 3,
        "name": "ipython"
      }
    }
  },
  "nbformat": 4,
  "nbformat_minor": 2
}