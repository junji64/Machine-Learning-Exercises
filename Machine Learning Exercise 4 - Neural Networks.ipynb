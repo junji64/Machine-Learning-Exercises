{
  "cells": [
    {
      "metadata": {},
      "cell_type": "markdown",
      "source": "# Machine Learning Exercise #4 - Neural Networks\n\n이 연습을 위해 우리는 손으로 쓴 숫자 데이터 세트를 다시 다루겠습니다. 이번에는 역전파(backpropagation)와 피드 포워드 신경망을 사용합니다. 우리는 역전파 알고리즘을 통해 신경망 비용 함수와 기울기 계산의 정규화되지 않은 것과 정규화 된 버전을 구현할 것입니다. 랜덤 가중치 초기화와 네트워크를 사용하여 예측을 수행하는 방법도 구현할 것입니다.\n\n데이터는 연습 3에서 사용한 데이터 세트와 동일하므로, 다음과 같이 코드를 다시 사용하여 데이터를 로드합니다."
    },
    {
      "metadata": {
        "trusted": true
      },
      "cell_type": "code",
      "source": "import numpy as np\nimport matplotlib.pyplot as plt\nfrom scipy.io import loadmat\n%matplotlib inline\n\ndata = loadmat('ex3data1.mat')\ndata",
      "execution_count": 27,
      "outputs": [
        {
          "output_type": "execute_result",
          "execution_count": 27,
          "data": {
            "text/plain": "{'X': array([[0., 0., 0., ..., 0., 0., 0.],\n        [0., 0., 0., ..., 0., 0., 0.],\n        [0., 0., 0., ..., 0., 0., 0.],\n        ...,\n        [0., 0., 0., ..., 0., 0., 0.],\n        [0., 0., 0., ..., 0., 0., 0.],\n        [0., 0., 0., ..., 0., 0., 0.]]),\n '__globals__': [],\n '__header__': b'MATLAB 5.0 MAT-file, Platform: GLNXA64, Created on: Sun Oct 16 13:09:09 2011',\n '__version__': '1.0',\n 'y': array([[10],\n        [10],\n        [10],\n        ...,\n        [ 9],\n        [ 9],\n        [ 9]], dtype=uint8)}"
          },
          "metadata": {}
        }
      ]
    },
    {
      "metadata": {},
      "cell_type": "markdown",
      "source": "나중에 이들을 필요로 할 것이므로(그리고 자주 사용하기도 합니다), 유용한 변수를 미리 만들어 보겠습니다."
    },
    {
      "metadata": {
        "trusted": true
      },
      "cell_type": "code",
      "source": "print(type(data))\nprint(type(data['X']))\nprint(type(data['y']))\nX = data['X']\ny = data['y']\nX.shape, y.shape",
      "execution_count": 28,
      "outputs": [
        {
          "output_type": "stream",
          "text": "<class 'dict'>\n<class 'numpy.ndarray'>\n<class 'numpy.ndarray'>\n",
          "name": "stdout"
        },
        {
          "output_type": "execute_result",
          "execution_count": 28,
          "data": {
            "text/plain": "((5000, 400), (5000, 1))"
          },
          "metadata": {}
        }
      ]
    },
    {
      "metadata": {},
      "cell_type": "markdown",
      "source": "### 자료 시각화\n\n다음의 코드는 데이터를 2 차원 플롯으로 표시합니다. 이것은 이전 연습에서 사용한 것과 동일한 데이터 세트입니다. 5000 개의 학습 예제가 있으며 각 연습 예제는 20x20 픽셀 회색 음영 이미지입니다. 각 픽셀은 해당 위치에서 그레이 스케일 강도를 나타내는 부동 소수점 숫자로 표시됩니다. 20 x 20 픽셀 격자는 400 차원 벡터로 주어집니다. 이 훈련 예제는 우리의 데이터 행렬 $X$에서 하나의 행이 됩니다.이 행렬은 손으로 쓴 자릿수 이미지에 대한 모든 행이 훈련 예제 인 5000 x 400 행렬 $X$를 제공합니다.\n$$ X = \\begin{bmatrix}\n         (x^{(1)})^T\\\\\n        (x^{(2)})^T  \\\\\n        \\vdots\\\\\n       (x^{(m)})^T \\\\\n         \\end{bmatrix}\n$$"
    },
    {
      "metadata": {
        "trusted": true
      },
      "cell_type": "code",
      "source": "select = np.random.randint(0, 5000, size=40)\n\nfig, axs = plt.subplots(5,8,subplot_kw={'xticks': [], 'yticks': []})\n\nfor i in range(5):\n    for j in range(8):\n        one = np.matrix(X)[select[i*8 + j],:].reshape(20,20)\n        axs[i][j].imshow(one.T, cmap='gray')\n    \nplt.show()",
      "execution_count": 29,
      "outputs": [
        {
          "output_type": "display_data",
          "data": {
            "image/png": "[encoded data removed]",
            "text/plain": "<matplotlib.figure.Figure at 0x7f51e2feb748>"
          },
          "metadata": {}
        }
      ]
    },
    {
      "metadata": {},
      "cell_type": "markdown",
      "source": "훈련 세트의 두 번째 파트는 트레이닝 세트의 레이블을 포함하는 5000차원 벡터입니다. 인덱스가 1부터 시작하는 Octave / Matlab 인덱싱과 더 잘 호환되도록 숫자 0에 숫자 10을 매핑했습니다. 따라서 숫자 \"0\"은 \"10\"으로 표시되고 숫자 \"1\"~\"9\"는 자연 순서대로 \"1\"~\"9\"로 표시됩니다.\n\n### 모델 표현\n\n우리의 신경망은 아래의 그림 2에 나와 있습니다. 입력 층, 은닉 층 및 출력 층의 3개 층이 있습니다. 입력 값은 숫자 이미지의 픽셀 값입니다. 이미지의 크기가 20 × 20 이므로 400개의 입력 층 노드를 제공합니다 (항상 +1을 출력하는 추가 바이어스 노드 제외). 이전과 마찬가지로, 학습 데이터는 변수 $X$와 $y$에 로드됩니다.  \n\n<img src=\"./fig2.png\" width=400>"
    },
    {
      "metadata": {},
      "cell_type": "markdown",
      "source": "### 전방전파 및 비용 함수\n\n이제 신경망에 대한 비용 함수와 그래디언트를 구현할 것입니다. 먼저 다음의 코드를 완성하여 비용을 반환하십시오.\n\n신경망에 대한 비용 함수(정규화되지 않은)는 다음과 같습니다.\n\n$$ J(\\theta) = {1\\over m} \\sum_{i=1}^m \\sum_{k=1}^K [-y_k^{(i)} \\log(h_\\theta(x^{(i)})_k) - (1 - y_k^{(i)}) \\log(1-h_\\theta(x^{(i)})_k)] $$\n\n여기서 $h_\\theta (x^{(i)})$는 그림 2와 같이 계산되고, K = 10은 가능한 레이블의 총 수입니다. $h (x^{(i)})_k = a_k^{(3)}$ 는 k 번째 출력 단위의 활성화(출력값)이다. 또한 원래의 레이블 (변수 y에서)은 1, 2, ..., 10 이었지만 신경망을 학습 할 목적으로 레이블을 0 또는 1 만 포함하는 벡터로 다음처럼 표시된 원핫(one-hot) 벡터로 다시 코딩해야 합니다. \n\n$$ y = \\begin{bmatrix}\n        1\\\\ 0\\\\ 0\\\\ \\vdots\\\\ 0\\\\\n         \\end{bmatrix}\n        ,\n        \\begin{bmatrix}\n        0\\\\ 1\\\\ 0\\\\ \\vdots\\\\ 0\\\\\n         \\end{bmatrix}\n         , \\cdots \\text{ or },\n         \\begin{bmatrix}\n        0\\\\ 0\\\\ 0\\\\ \\vdots\\\\ 1\\\\\n         \\end{bmatrix}\n         $$\n\n\n우리는 y 레이블을 원핫(one-hot) 인코딩해야 합니다. 원핫인코딩은 클래스 레이블 n (k 클래스들 중에서)을 길이가 K 인 벡터로 바꾸어줍니다. 여기서 인덱스 n은 hot(1)이고, 나머지는 0 입니다. Scikit-learn은 이것을 위해 사용할 수 있는 유틸리티가 내장되어 있습니다."
    },
    {
      "metadata": {
        "trusted": true
      },
      "cell_type": "code",
      "source": "from sklearn.preprocessing import OneHotEncoder\nencoder = OneHotEncoder(sparse=False)\ny_onehot = encoder.fit_transform(y)\ny_onehot.shape",
      "execution_count": 7,
      "outputs": [
        {
          "output_type": "execute_result",
          "execution_count": 7,
          "data": {
            "text/plain": "(5000, 10)"
          },
          "metadata": {}
        }
      ]
    },
    {
      "metadata": {
        "trusted": true
      },
      "cell_type": "code",
      "source": "y[0], y_onehot[0,:]\n# y[500], y_onehot[500,:]",
      "execution_count": 8,
      "outputs": [
        {
          "output_type": "execute_result",
          "execution_count": 8,
          "data": {
            "text/plain": "(array([10], dtype=uint8), array([0., 0., 0., 0., 0., 0., 0., 0., 0., 1.]))"
          },
          "metadata": {}
        }
      ]
    },
    {
      "metadata": {},
      "cell_type": "markdown",
      "source": "이 실습을 위해 구축 할 신경망에는 입력 데이터 크기(400 + 바이어스 유닛)의 입력 레이어와, \n25개 단위(바이어스 유닛을 포함하면 26)가 있는 히든 레이어와 함께, 클래스 레이블에 대한 우리의 원핫-인코딩에 해당하는 10 유닛의 출력 레이어가 있습니다. (Figure 2 참조)\n\n우리가 구현해야 할 첫 번째 부분은 주어진 네트워크 매개 변수들에 대한 손실(loss)을 평가하는 비용 함수입니다. 다음은 비용을 계산하는 데 필요한 함수입니다."
    },
    {
      "metadata": {
        "trusted": true
      },
      "cell_type": "code",
      "source": "def sigmoid(z):\n    return 1 / (1 + np.exp(-z))",
      "execution_count": 9,
      "outputs": []
    },
    {
      "metadata": {
        "trusted": true
      },
      "cell_type": "code",
      "source": "def forward_propagate(X, theta1, theta2):\n    m = X.shape[0]     # no. of training sample (= 5000) \n    \n    a1 = np.insert(X, 0, values=np.ones(m), axis=1)   # add bias unit for layer 1\n    z2 = a1 * theta1.T\n    a2 = np.insert(sigmoid(z2), 0, values=np.ones(m), axis=1)  # add bias unit for layer 2\n    z3 = a2 * theta2.T\n    h = sigmoid(z3)\n    \n    return a1, z2, a2, z3, h",
      "execution_count": 10,
      "outputs": []
    },
    {
      "metadata": {
        "trusted": true
      },
      "cell_type": "code",
      "source": "def cost0(input_size, hidden_size, num_labels, X, y, theta1, theta2, reg_lambda):\n    m = X.shape[0]\n    X = np.matrix(X)\n    y = np.matrix(y)\n    \n    # run the feed-forward pass\n    a1, z2, a2, z3, h = forward_propagate(X, theta1, theta2)\n    \n    # compute the cost\n    # Problem(1) - score 10 ==============================================\n    J = 0\n    for i in range(m):\n        \n        first_term = np.multiply(-y[i,:], np.log(h[i,:]))\n        second_term = np.multiply((1 - y[i,:]), np.log(1 - h[i,:]))\n        J += np.sum(first_term - second_term)\n    \n    J = J / m\n    # ====================================================================\n    return J",
      "execution_count": 11,
      "outputs": []
    },
    {
      "metadata": {},
      "cell_type": "markdown",
      "source": "시그모이드 함수는 이전에도 사용했으므로 새 것이 아닙니다. forward-propagate 함수는 현재 주어진 매개변수로 각 학습 인스턴스에 대한 가설을 계산합니다. 출력 형태는 y에 대한 one-hot 인코딩과 동일해야 합니다. 우리는 이 사실을 빨리 테스트하여 예상대로 작동하고 있음을 확신 할 수 있습니다 (중간 단계도 나중에 유용하므로 반환됩니다)."
    },
    {
      "metadata": {
        "trusted": true
      },
      "cell_type": "code",
      "source": "# initial setup\ninput_size = 400\nhidden_size = 25\nnum_labels = 10\nreg_lambda = 1\nepsilon = 0.25\n\n# randomly initialize a parameter array of the size of the full network's parameters\nparam_size = hidden_size * (input_size + 1) + num_labels * (hidden_size + 1)\n# params = np.zeros(param_size)\n# Problem 2 (score = 5) ================================================================\nparams = (np.random.random(size=param_size) * 2 * epsilon ) - epsilon\n# ==================================================================================\nprint(params.shape)\nm = X.shape[0]\nX = np.matrix(X)\ny = np.matrix(y)\n\n# unravel the parameter array into parameter matrices for each layer\ntheta1 = np.matrix(np.reshape(params[:hidden_size * (input_size + 1)], (hidden_size, (input_size + 1))))\ntheta2 = np.matrix(np.reshape(params[hidden_size * (input_size + 1):], (num_labels, (hidden_size + 1))))\n\ntheta1.shape, theta2.shape",
      "execution_count": 12,
      "outputs": [
        {
          "output_type": "stream",
          "text": "(10285,)\n",
          "name": "stdout"
        },
        {
          "output_type": "execute_result",
          "execution_count": 12,
          "data": {
            "text/plain": "((25, 401), (10, 26))"
          },
          "metadata": {}
        }
      ]
    },
    {
      "metadata": {
        "trusted": true
      },
      "cell_type": "code",
      "source": "a1, z2, a2, z3, h = forward_propagate(X, theta1, theta2)\na1.shape, z2.shape, a2.shape, z3.shape, h.shape",
      "execution_count": 13,
      "outputs": [
        {
          "output_type": "execute_result",
          "execution_count": 13,
          "data": {
            "text/plain": "((5000, 401), (5000, 25), (5000, 26), (5000, 10), (5000, 10))"
          },
          "metadata": {}
        }
      ]
    },
    {
      "metadata": {},
      "cell_type": "markdown",
      "source": "### 비용 함수는 가설 행렬 h를 계산 한 후 비용 방정식을 적용하여 y와 h 간의 총 오류를 계산합니다. \n\n코딩이 완료되면 Theta1과 Theta2에 대한 매개 변수 집합을 -0.25~0.25 사이의 무작위 값을 사용하여 cost 함수를 호출합니다. 비용은 약 6.099 입니다."
    },
    {
      "metadata": {
        "trusted": true
      },
      "cell_type": "code",
      "source": "cost0(input_size, hidden_size, num_labels, X, y_onehot, theta1, theta2, reg_lambda)",
      "execution_count": 14,
      "outputs": [
        {
          "output_type": "execute_result",
          "execution_count": 14,
          "data": {
            "text/plain": "7.220436278168392"
          },
          "metadata": {}
        }
      ]
    },
    {
      "metadata": {},
      "cell_type": "markdown",
      "source": "다음 단계는 비용 함수에 정규화를 추가하는 것입니다. 사실, 정규화 항(regularization term)은 단순히 우리가 이미 계산 한 비용에 더하는 것입니다. 다음은 수정된 비용 함수입니다."
    },
    {
      "metadata": {
        "trusted": true
      },
      "cell_type": "code",
      "source": "def cost(params, input_size, hidden_size, num_labels, X, y, reg_lambda):\n    m = X.shape[0]\n    X = np.matrix(X)\n    y = np.matrix(y)\n    \n    # reshape the parameter array into parameter matrices for each layer\n    theta1 = np.matrix(np.reshape(params[:hidden_size * (input_size + 1)], (hidden_size, (input_size + 1))))\n    theta2 = np.matrix(np.reshape(params[hidden_size * (input_size + 1):], (num_labels, (hidden_size + 1))))\n    \n    # run the feed-forward pass\n    a1, z2, a2, z3, h = forward_propagate(X, theta1, theta2)\n    \n    # compute the cost\n    J = 0\n    for i in range(m):\n        first_term = np.multiply(-y[i,:], np.log(h[i,:]))\n        second_term = np.multiply((1 - y[i,:]), np.log(1 - h[i,:]))\n        J += np.sum(first_term - second_term)\n    \n    J = J / m\n    \n    # add the cost regularization term\n    J += (float(reg_lambda) / (2 * m)) * (np.sum(np.power(theta1[:,1:], 2)) + np.sum(np.power(theta2[:,1:], 2)))\n    \n    return J\n\ncost(params, input_size, hidden_size, num_labels, X, y_onehot, reg_lambda)",
      "execution_count": 15,
      "outputs": [
        {
          "output_type": "execute_result",
          "execution_count": 15,
          "data": {
            "text/plain": "7.241761942281401"
          },
          "metadata": {}
        }
      ]
    },
    {
      "metadata": {},
      "cell_type": "markdown",
      "source": "다음은 역전파(backpropagation) 알고리즘입니다. 역전파는 훈련자료에 대한 네트워크의 오류를 줄이도록 매개 변수 업데이트를 계산합니다. 우리가 먼저 필요로 하는 것은 우리가 이전에 생성한 시그모이드 함수의 그래디언트를 계산하는 함수입니다."
    },
    {
      "metadata": {
        "trusted": true
      },
      "cell_type": "code",
      "source": "def sigmoid_gradient(z):\n    return np.multiply(sigmoid(z), (1 - sigmoid(z)))",
      "execution_count": 16,
      "outputs": []
    },
    {
      "metadata": {},
      "cell_type": "markdown",
      "source": "이제 그라디언트를 계산하기 위해 역전파(backpropagation)를 구현할 준비가 되었습니다. 역전파에 필요한 계산이 비용 함수에서 요구되는 계산을 포함하기 때문에, 실제로 비용 함수를 확장하여 역전파를 수행하고 비용과 그라디언트를 모두 반환하도록 코딩을 합니다. "
    },
    {
      "metadata": {
        "trusted": true
      },
      "cell_type": "code",
      "source": "def backprop(params, input_size, hidden_size, num_labels, X, y, reg_lambda):\n    m = X.shape[0]\n    X = np.matrix(X)\n    y = np.matrix(y)\n    \n    # reshape the parameter array into parameter matrices for each layer\n    theta1 = np.matrix(np.reshape(params[:hidden_size * (input_size + 1)], (hidden_size, (input_size + 1))))\n    theta2 = np.matrix(np.reshape(params[hidden_size * (input_size + 1):], (num_labels, (hidden_size + 1))))\n    \n    # run the feed-forward pass\n    a1, z2, a2, z3, h = forward_propagate(X, theta1, theta2)\n    \n    # initializations\n    J = 0\n    delta1 = np.zeros(theta1.shape)  # (25, 401)\n    delta2 = np.zeros(theta2.shape)  # (10, 26)\n    \n    # compute the cost\n    # Same as Problem 1 (score 10) =========================================================\n    for i in range(m):\n        first_term = np.multiply(-y[i,:], np.log(h[i,:]))\n        second_term = np.multiply((1 - y[i,:]), np.log(1 - h[i,:]))\n        J += np.sum(first_term - second_term)\n    \n    J = J / m\n    # ===================================================================================\n    # add the cost regularization term\n    # Problem 3 (Score 5) =================================================================\n    J += (float(reg_lambda) / (2 * m)) * (np.sum(np.power(theta1[:,1:], 2)) + np.sum(np.power(theta2[:,1:], 2)))\n    # =====================================================================================\n    # perform backpropagation\n    # Problem 4 (Score 15) ===============================================================\n    for t in range(m):\n        a1t = a1[t,:]  # (1, 401)\n        z2t = z2[t,:]  # (1, 25)\n        a2t = a2[t,:]  # (1, 26)\n        ht = h[t,:]  # (1, 10)\n        yt = y[t,:]  # (1, 10)\n        \n        d3t = ht - yt  # (1, 10)\n        \n        z2t = np.insert(z2t, 0, values=np.ones(1))  # (1, 26)\n        d2t = np.multiply((theta2.T * d3t.T).T, sigmoid_gradient(z2t))  # (1, 26)\n        \n        delta1 = delta1 + (d2t[:,1:]).T * a1t\n        delta2 = delta2 + d3t.T * a2t\n        \n    delta1 = delta1 / m\n    delta2 = delta2 / m\n    # ================================================================================\n    # unravel the gradient matrices into a single array\n    grad = np.concatenate((np.ravel(delta1), np.ravel(delta2)))\n    \n    return J, grad",
      "execution_count": 17,
      "outputs": []
    },
    {
      "metadata": {},
      "cell_type": "markdown",
      "source": "(왜 우리가 이 모든 계산을 하는지 이해하는 것 외에) backprop 함수 계산의 가장 어려운 부분은 행렬 차원을 올바르게 얻는 것입니다. 그건 그렇고, A*B 와 np.multiply(A, B)를 헛갈리지 마십시오. 기본적으로 전자는 행렬 곱셈이고 후자는 요소 단위의 곱셈입니다 (A 또는 B가 스칼라 값이라면 상관 없습니다). \n\n어쨌든 함수가 우리가 기대하는 바를 반환하는지 테스트 해 봅시다."
    },
    {
      "metadata": {
        "trusted": true
      },
      "cell_type": "code",
      "source": "J, grad = backprop(params, input_size, hidden_size, num_labels, X, y_onehot, reg_lambda)\nJ, grad.shape",
      "execution_count": 18,
      "outputs": [
        {
          "output_type": "execute_result",
          "execution_count": 18,
          "data": {
            "text/plain": "(7.241761942281401, (10285,))"
          },
          "metadata": {}
        }
      ]
    },
    {
      "metadata": {},
      "cell_type": "markdown",
      "source": "역전파 함수에 또 하나의 수정이 있습니다 - 그라디언트 계산에 정규화 추가.  최종 정규화 버전은 아래와 같습니다."
    },
    {
      "metadata": {
        "trusted": true
      },
      "cell_type": "code",
      "source": "def backprop(params, input_size, hidden_size, num_labels, X, y, reg_lambda):\n    m = X.shape[0]\n    X = np.matrix(X)\n    y = np.matrix(y)\n    \n    # reshape the parameter array into parameter matrices for each layer\n    theta1 = np.matrix(np.reshape(params[:hidden_size * (input_size + 1)], (hidden_size, (input_size + 1))))\n    theta2 = np.matrix(np.reshape(params[hidden_size * (input_size + 1):], (num_labels, (hidden_size + 1))))\n    \n    # run the feed-forward pass\n    a1, z2, a2, z3, h = forward_propagate(X, theta1, theta2)\n    \n    # initializations\n    J = 0\n    delta1 = np.zeros(theta1.shape)  # (25, 401)\n    delta2 = np.zeros(theta2.shape)  # (10, 26)\n    \n    # compute the cost\n    # Same as Problem 1 (score 10) =========================================================\n    for i in range(m):\n        first_term = np.multiply(-y[i,:], np.log(h[i,:]))\n        second_term = np.multiply((1 - y[i,:]), np.log(1 - h[i,:]))\n        J += np.sum(first_term - second_term)\n    \n    J = J / m\n    # ===================================================================================\n    # Same as Problem 3 (Score 5) =================================================================\n    J += (float(reg_lambda) / (2 * m)) * (np.sum(np.power(theta1[:,1:], 2)) + np.sum(np.power(theta2[:,1:], 2)))\n    # =====================================================================================\n    # perform backpropagation\n    # Same as Problem 4 (Score 15) ===============================================================\n    for t in range(m):\n        a1t = a1[t,:]  # (1, 401)\n        z2t = z2[t,:]  # (1, 25)\n        a2t = a2[t,:]  # (1, 26)\n        ht = h[t,:]  # (1, 10)\n        yt = y[t,:]  # (1, 10)\n        \n        d3t = ht - yt  # (1, 10)\n        \n        z2t = np.insert(z2t, 0, values=np.ones(1))  # (1, 26)\n        d2t = np.multiply((theta2.T * d3t.T).T, sigmoid_gradient(z2t))  # (1, 26)\n        \n        delta1 = delta1 + (d2t[:,1:]).T * a1t\n        delta2 = delta2 + d3t.T * a2t\n        \n    delta1 = delta1 / m\n    delta2 = delta2 / m\n    # ================================================================================\n    # add the gradient regularization term\n    # Problem 5 (Score 5) ===============================================================\n    delta1[:,1:] = delta1[:,1:] + (theta1[:,1:] * reg_lambda) / m\n    delta2[:,1:] = delta2[:,1:] + (theta2[:,1:] * reg_lambda) / m\n    # ==================================================================================\n    # unravel the gradient matrices into a single array\n    grad = np.concatenate((np.ravel(delta1), np.ravel(delta2)))\n    \n    return J, grad",
      "execution_count": 19,
      "outputs": []
    },
    {
      "metadata": {
        "trusted": true
      },
      "cell_type": "code",
      "source": "J, grad = backprop(params, input_size, hidden_size, num_labels, X, y_onehot, reg_lambda)\nJ, grad.shape",
      "execution_count": 24,
      "outputs": [
        {
          "output_type": "execute_result",
          "execution_count": 24,
          "data": {
            "text/plain": "(7.241761942281401, (10285,))"
          },
          "metadata": {}
        }
      ]
    },
    {
      "metadata": {},
      "cell_type": "markdown",
      "source": "우리는 마침내 우리의 네트워크를 훈련시키고, 예측을 위해 사용할 준비가 되었습니다. 이것은 다중 클래스 로지스틱 회귀 분석을 사용한 이전의 실습과 거의 비슷합니다. 사용하는 최적화 알고리즘은 scipy.optimize.minimize() 이며 jac=True 로 줄 경우에는, fun=backprop 로 주어지는  함수 backprop() 는 비용함수값과 그레디언트 값을 반환해주는 함수여야한다. 사용 가능한 그라디언트 업데이트 알고리즘( method=\"  \" 로 주어짐)들에는  CG, BFGS, Newton-CG, L-BFGS-B, TNC 등이 있다.  "
    },
    {
      "metadata": {
        "trusted": true
      },
      "cell_type": "code",
      "source": "from scipy.optimize import minimize\n\n# minimize the objective function\nfmin = minimize(fun=backprop, x0=params, args=(input_size, hidden_size, num_labels, X, y_onehot, reg_lambda), \n                method='TNC', jac=True, options={'maxiter': 250})\nfmin",
      "execution_count": 25,
      "outputs": [
        {
          "output_type": "stream",
          "text": "/home/nbuser/anaconda3_420/lib/python3.5/site-packages/ipykernel/__main__.py:22: RuntimeWarning: divide by zero encountered in log\n/home/nbuser/anaconda3_420/lib/python3.5/site-packages/ipykernel/__main__.py:22: RuntimeWarning: invalid value encountered in multiply\n",
          "name": "stderr"
        },
        {
          "output_type": "execute_result",
          "execution_count": 25,
          "data": {
            "text/plain": "     fun: 0.4687689748164321\n     jac: array([ 2.15786183e-03, -1.42386182e-05, -8.78047301e-06, ...,\n        6.90989474e-05, -2.78214272e-04, -1.04861596e-03])\n message: 'Linear search failed'\n    nfev: 216\n     nit: 13\n  status: 4\n success: False\n       x: array([-0.53960529, -0.07119309, -0.04390237, ..., -1.43583019,\n        1.59837072,  1.27641506])"
          },
          "metadata": {}
        }
      ]
    },
    {
      "metadata": {},
      "cell_type": "markdown",
      "source": "우리는 목적 함수가 완전히 수렴하지 않을 것이기 때문에 반복의 수를 제한합니다. 총 비용이 0.5 미만으로 떨어졌다는 것은 알고리즘이 작동 중임을 나타내는 좋은 지표입니다. 찾은 매개 변수를 사용하여 네트워크를 전방향 전파(forward-propagate)를 하여 예측을 얻어내 봅시다."
    },
    {
      "metadata": {
        "trusted": true
      },
      "cell_type": "code",
      "source": "X = np.matrix(X)\ntheta1 = np.matrix(np.reshape(fmin.x[:hidden_size * (input_size + 1)], (hidden_size, (input_size + 1))))\ntheta2 = np.matrix(np.reshape(fmin.x[hidden_size * (input_size + 1):], (num_labels, (hidden_size + 1))))\n\na1, z2, a2, z3, h = forward_propagate(X, theta1, theta2)\ny_pred = np.array(np.argmax(h, axis=1) + 1)",
      "execution_count": 26,
      "outputs": []
    },
    {
      "metadata": {},
      "cell_type": "markdown",
      "source": "마지막으로 정확성을 계산하여 숙련 된 네트워크가 얼마나 잘 작동하는지 확인할 수 있습니다."
    },
    {
      "metadata": {
        "trusted": true
      },
      "cell_type": "code",
      "source": "correct = [1 if a == b else 0 for (a, b) in zip(y_pred, y)]\naccuracy = (sum(map(int, correct)) / float(len(correct)))\nprint('accuracy =', accuracy * 100, '%')",
      "execution_count": 23,
      "outputs": [
        {
          "output_type": "stream",
          "text": "accuracy = 96.3 %\n",
          "name": "stdout"
        }
      ]
    },
    {
      "metadata": {},
      "cell_type": "markdown",
      "source": "완료됬습니다. 우리는 역전파(backpropagation) 기능을 갖춘 기본적인 전방향전파(forward feed-forward) 신경망을 성공적으로 구현하여, 손으로 쓴 자릿수의 이미지를 분류하는 데 사용했습니다. "
    }
  ],
  "metadata": {
    "kernelspec": {
      "name": "python3",
      "display_name": "Python 3",
      "language": "python"
    },
    "language_info": {
      "mimetype": "text/x-python",
      "nbconvert_exporter": "python",
      "name": "python",
      "pygments_lexer": "ipython3",
      "version": "3.5.4",
      "file_extension": ".py",
      "codemirror_mode": {
        "version": 3,
        "name": "ipython"
      }
    }
  },
  "nbformat": 4,
  "nbformat_minor": 2
}