{
  "cells": [
    {
      "metadata": {},
      "cell_type": "markdown",
      "source": "# Array operations in Numpy\n\n### Using np.dot() : Matrix multiply to a vector\n\n행렬 $X(m,n)$와 벡터 $t(n)$의 곱셈은 다음 중 하나를 사용합니다.\n* **numpy.dot(X,t)**  \n* **X.dot(t)**\n\n$$ \nX t = \\begin{bmatrix} \nx_{11} & x_{12} & \\cdots & x_{1,n} \\\\\nx_{21} & x_{22} & \\cdots & x_{2,n} \\\\\n\\vdots & \\vdots & \\vdots & \\vdots \\\\\nx_{m1} & x_{m2} & \\cdots & x_{m,n} \\\\\n\\end{bmatrix} \n\\begin{bmatrix} \nt_{1}\\\\\nt_{2} \\\\\n\\vdots\\\\\nt_{n}\\\\\n\\end{bmatrix}\n=\n\\begin{bmatrix} \nh_{1}\\\\\nh_{2} \\\\\n\\vdots\\\\\nh_{n}\\\\\n\\end{bmatrix}\n$$"
    },
    {
      "metadata": {
        "trusted": false
      },
      "cell_type": "code",
      "source": "import numpy as np\nn = 10\nm = 6\nX = np.arange(n*m).reshape(n,m)\nt = X[9,:]\nprint('X shape : ', X.shape, ', t shape : ',t.shape)",
      "execution_count": 10,
      "outputs": [
        {
          "name": "stdout",
          "output_type": "stream",
          "text": "X shape :  (10, 6) , t shape :  (6,)\n"
        }
      ]
    },
    {
      "metadata": {
        "trusted": false
      },
      "cell_type": "code",
      "source": "np.dot(X,t)",
      "execution_count": 11,
      "outputs": [
        {
          "data": {
            "text/plain": "array([  865,  2899,  4933,  6967,  9001, 11035, 13069, 15103, 17137,\n       19171])"
          },
          "execution_count": 11,
          "metadata": {},
          "output_type": "execute_result"
        }
      ]
    },
    {
      "metadata": {
        "trusted": false
      },
      "cell_type": "code",
      "source": "X.dot(t)",
      "execution_count": 12,
      "outputs": [
        {
          "data": {
            "text/plain": "array([  865,  2899,  4933,  6967,  9001, 11035, 13069, 15103, 17137,\n       19171])"
          },
          "execution_count": 12,
          "metadata": {},
          "output_type": "execute_result"
        }
      ]
    },
    {
      "metadata": {},
      "cell_type": "markdown",
      "source": "### 배열 요소간의 연산 (array element-wise operation)\n\n벡터와 벡터의 요소들 간의 연산시는 일반적인 산술 연산자가 사용된다.\n$$\n\\begin{bmatrix} \nt_{1}\\\\\nt_{2}\\\\\n\\vdots\\\\\nt_{n}\\\\\n\\end{bmatrix} +, -, *, /\n\\begin{bmatrix} \ny_{1}\\\\\ny_{2}\\\\\n\\vdots\\\\\ny_{n}\\\\\n\\end{bmatrix} = \n\\begin{bmatrix} \ner_{1}\\\\\ner_{2}\\\\\n\\vdots\\\\\ner_{n}\\\\\n\\end{bmatrix}\n$$\n\n**주의**: 두 벡터의 모양이 같아야 합니다. 예를 들어, (3,)과 (3,1)은 다른 모양으로 간주되어, 일반 요소간 연산이 아닌 broadcasting 연산이 수행됩니다."
    },
    {
      "metadata": {
        "trusted": false
      },
      "cell_type": "code",
      "source": "h = X.dot(t)\ny = X[:,0]\nprint('h shape : ', h.shape, ', y shape : ',y.shape)",
      "execution_count": 13,
      "outputs": [
        {
          "name": "stdout",
          "output_type": "stream",
          "text": "h shape :  (10,) , y shape :  (10,)\n"
        }
      ]
    },
    {
      "metadata": {
        "trusted": false
      },
      "cell_type": "code",
      "source": "h - y # Element-wise operation h + y, h * y, h / y",
      "execution_count": 62,
      "outputs": [
        {
          "data": {
            "text/plain": "array([  865,  2893,  4921,  6949,  8977, 11005, 13033, 15061, 17089,\n       19117])"
          },
          "execution_count": 62,
          "metadata": {},
          "output_type": "execute_result"
        }
      ]
    },
    {
      "metadata": {
        "trusted": false
      },
      "cell_type": "code",
      "source": "yy = X[:,0:1]\nprint('h shape : ', h.shape, ', yy shape : ',yy.shape)\nh - yy         # Note : broadcasting operation",
      "execution_count": 16,
      "outputs": [
        {
          "name": "stdout",
          "output_type": "stream",
          "text": "h shape :  (10,) , yy shape :  (10, 1)\n"
        },
        {
          "data": {
            "text/plain": "array([[  865,  2899,  4933,  6967,  9001, 11035, 13069, 15103, 17137,\n        19171],\n       [  859,  2893,  4927,  6961,  8995, 11029, 13063, 15097, 17131,\n        19165],\n       [  853,  2887,  4921,  6955,  8989, 11023, 13057, 15091, 17125,\n        19159],\n       [  847,  2881,  4915,  6949,  8983, 11017, 13051, 15085, 17119,\n        19153],\n       [  841,  2875,  4909,  6943,  8977, 11011, 13045, 15079, 17113,\n        19147],\n       [  835,  2869,  4903,  6937,  8971, 11005, 13039, 15073, 17107,\n        19141],\n       [  829,  2863,  4897,  6931,  8965, 10999, 13033, 15067, 17101,\n        19135],\n       [  823,  2857,  4891,  6925,  8959, 10993, 13027, 15061, 17095,\n        19129],\n       [  817,  2851,  4885,  6919,  8953, 10987, 13021, 15055, 17089,\n        19123],\n       [  811,  2845,  4879,  6913,  8947, 10981, 13015, 15049, 17083,\n        19117]])"
          },
          "execution_count": 16,
          "metadata": {},
          "output_type": "execute_result"
        }
      ]
    },
    {
      "metadata": {},
      "cell_type": "markdown",
      "source": "### Using np.matmul() : Matrix multiply to a vector\n\nndarray 를 **numpy.matrix()**를 사용하여 행렬로 케스팅하면, \n행렬 $X(n,m)$와 벡터 $t(m)$의 곱셈은 다음 중 하나를 사용합니다.\n* **numpy.matmul(X,t)**  \n* **X @ t** or **X * t**\n\n**주의** 연산속도의 효율성이 좋지 않아 실제 계산에서는 사용하지 않음, 하지만 코딩에 선형대수식을 그대로 사용이 가능한 장점이 있음.\n"
    },
    {
      "metadata": {
        "trusted": true
      },
      "cell_type": "code",
      "source": "print('X shape : ', X.shape, ', t shape : ',t.shape)\nXt = np.matmul(X,t) # 결과가 열벡터가 아닌 행벡터임을 주의 !!!\nprint(Xt)\nprint(Xt.shape)",
      "execution_count": 1,
      "outputs": [
        {
          "output_type": "error",
          "ename": "NameError",
          "evalue": "name 'X' is not defined",
          "traceback": [
            "\u001b[0;31m---------------------------------------------------------------------------\u001b[0m",
            "\u001b[0;31mNameError\u001b[0m                                 Traceback (most recent call last)",
            "\u001b[0;32m<ipython-input-1-36914fd80a0d>\u001b[0m in \u001b[0;36m<module>\u001b[0;34m()\u001b[0m\n\u001b[0;32m----> 1\u001b[0;31m \u001b[0mprint\u001b[0m\u001b[0;34m(\u001b[0m\u001b[0;34m'X shape : '\u001b[0m\u001b[0;34m,\u001b[0m \u001b[0mX\u001b[0m\u001b[0;34m.\u001b[0m\u001b[0mshape\u001b[0m\u001b[0;34m,\u001b[0m \u001b[0;34m', t shape : '\u001b[0m\u001b[0;34m,\u001b[0m\u001b[0mt\u001b[0m\u001b[0;34m.\u001b[0m\u001b[0mshape\u001b[0m\u001b[0;34m)\u001b[0m\u001b[0;34m\u001b[0m\u001b[0m\n\u001b[0m\u001b[1;32m      2\u001b[0m \u001b[0mXt\u001b[0m \u001b[0;34m=\u001b[0m \u001b[0mnp\u001b[0m\u001b[0;34m.\u001b[0m\u001b[0mmatmul\u001b[0m\u001b[0;34m(\u001b[0m\u001b[0mX\u001b[0m\u001b[0;34m,\u001b[0m\u001b[0mt\u001b[0m\u001b[0;34m)\u001b[0m \u001b[0;31m# 결과가 열벡터가 아닌 행벡터임을 주의 !!!\u001b[0m\u001b[0;34m\u001b[0m\u001b[0m\n\u001b[1;32m      3\u001b[0m \u001b[0mprint\u001b[0m\u001b[0;34m(\u001b[0m\u001b[0mXt\u001b[0m\u001b[0;34m)\u001b[0m\u001b[0;34m\u001b[0m\u001b[0m\n\u001b[1;32m      4\u001b[0m \u001b[0mprint\u001b[0m\u001b[0;34m(\u001b[0m\u001b[0mXt\u001b[0m\u001b[0;34m.\u001b[0m\u001b[0mshape\u001b[0m\u001b[0;34m)\u001b[0m\u001b[0;34m\u001b[0m\u001b[0m\n",
            "\u001b[0;31mNameError\u001b[0m: name 'X' is not defined"
          ]
        }
      ]
    },
    {
      "metadata": {
        "trusted": false
      },
      "cell_type": "code",
      "source": "Xm = np.matrix(X)\ntm = np.matrix(t)\nprint('Xm shape : ', Xm.shape, ', tm shape : ',tm.shape, ', tm.T shape : ',tm.T.shape )\n# np.matmul(Xm,tm)  <==== This cause Error.\nhm = np.matmul(Xm,tm.T)\nprint(hm)\nprint(hm.shape)",
      "execution_count": 35,
      "outputs": [
        {
          "name": "stdout",
          "output_type": "stream",
          "text": "Xm shape :  (10, 6) , tm shape :  (1, 6) , tm.T shape :  (6, 1)\n[[  865]\n [ 2899]\n [ 4933]\n [ 6967]\n [ 9001]\n [11035]\n [13069]\n [15103]\n [17137]\n [19171]]\n(10, 1)\n"
        }
      ]
    },
    {
      "metadata": {
        "trusted": false
      },
      "cell_type": "code",
      "source": "Xm @ tm.T  # = Xm * tm.T ",
      "execution_count": 58,
      "outputs": [
        {
          "data": {
            "text/plain": "matrix([[  865],\n        [ 2899],\n        [ 4933],\n        [ 6967],\n        [ 9001],\n        [11035],\n        [13069],\n        [15103],\n        [17137],\n        [19171]])"
          },
          "execution_count": 58,
          "metadata": {},
          "output_type": "execute_result"
        }
      ]
    },
    {
      "metadata": {
        "scrolled": true,
        "trusted": false
      },
      "cell_type": "code",
      "source": "hm = np.matmul(Xm,tm.T)\nym = np.matrix(X[:,0])\n\nprint('hm shape : ', hm.shape, ', ym shape : ',ym.shape, 'ym.T shape : ',ym.T.shape)\n# hm - ym <=== This cause broadcasting operation\nhm - ym.T\nhm + ym.T\nnp.multiply(hm,ym.T)   # hm * ym.T 는 행렬 곱셈이 됨\nhm / (ym.T + 0.0001)",
      "execution_count": 68,
      "outputs": [
        {
          "name": "stdout",
          "output_type": "stream",
          "text": "hm shape :  (10, 1) , ym shape :  (1, 10) ym.T shape :  (10, 1)\n"
        },
        {
          "data": {
            "text/plain": "matrix([[8.65000000e+06],\n        [4.83158614e+02],\n        [4.11079908e+02],\n        [3.87053405e+02],\n        [3.75040104e+02],\n        [3.67832107e+02],\n        [3.63026769e+02],\n        [3.59594382e+02],\n        [3.57020090e+02],\n        [3.55017861e+02]])"
          },
          "execution_count": 68,
          "metadata": {},
          "output_type": "execute_result"
        }
      ]
    },
    {
      "metadata": {
        "trusted": false
      },
      "cell_type": "code",
      "source": "",
      "execution_count": null,
      "outputs": []
    }
  ],
  "metadata": {
    "kernelspec": {
      "name": "python3",
      "display_name": "Python 3",
      "language": "python"
    },
    "language_info": {
      "mimetype": "text/x-python",
      "nbconvert_exporter": "python",
      "name": "python",
      "pygments_lexer": "ipython3",
      "version": "3.5.4",
      "file_extension": ".py",
      "codemirror_mode": {
        "version": 3,
        "name": "ipython"
      }
    }
  },
  "nbformat": 4,
  "nbformat_minor": 2
}