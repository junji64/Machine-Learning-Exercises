{
  "cells": [
    {
      "metadata": {},
      "cell_type": "markdown",
      "source": "# Logistic Regression Exercise\n이 연습에서는 로지스틱 회귀를 구현하고, 이를 분류 작업에 적용합니다. 또한 학습 알고리즘에 정규화를 추가하여 구현의 견고성을 향상시킬 것입니다. 더 어려운 문제에 대해 시험해 봅니다.\n\n## 로지스틱 회귀(Logistic Regression)\n이 연습의 첫 번째 부분에서는 학생이 대학에 합격 할 것인지를 예측하는 로지스틱 회귀 모델을 작성합니다. 당신이 대학의 관리자이고, 두 번의 시험에 대한 결과에 따라 각 신청자의 입학 확률을 결정한다고 가정하십시오. 이전 지원자의 과거 데이터를 사용하여 로지스틱 회귀에 대한 훈련 세트로 사용할 수 있습니다. 각 훈련 사례에는 두 가지 시험에 대한 지원자의 점수와 입학 결정이 있습니다. 이를 위해 시험 점수에 따라 입학 확률을 추정하는 분류 모델을 만들 것입니다.\n\n### 데이타 시각화\n학습 알고리즘을 구현하기 전에 가능한 경우 데이터를 시각화하는 것이 좋습니다. 다음의 코드는 데이터를 로드하고, 검토해 봅니다."
    },
    {
      "metadata": {
        "trusted": true
      },
      "cell_type": "code",
      "source": "import numpy as np\nimport pandas as pd\nimport matplotlib.pyplot as plt\n%matplotlib inline\n#import os\n#path = os.getcwd() + '/data/ex2data1.txt'\ndata = pd.read_csv('ex2data1.txt', header=None, names=['Exam 1', 'Exam 2', 'Admitted'])\ndata.head()",
      "execution_count": 20,
      "outputs": [
        {
          "output_type": "execute_result",
          "execution_count": 20,
          "data": {
            "text/plain": "      Exam 1     Exam 2  Admitted\n0  34.623660  78.024693         0\n1  30.286711  43.894998         0\n2  35.847409  72.902198         0\n3  60.182599  86.308552         1\n4  79.032736  75.344376         1",
            "text/html": "<div>\n<table border=\"1\" class=\"dataframe\">\n  <thead>\n    <tr style=\"text-align: right;\">\n      <th></th>\n      <th>Exam 1</th>\n      <th>Exam 2</th>\n      <th>Admitted</th>\n    </tr>\n  </thead>\n  <tbody>\n    <tr>\n      <th>0</th>\n      <td>34.623660</td>\n      <td>78.024693</td>\n      <td>0</td>\n    </tr>\n    <tr>\n      <th>1</th>\n      <td>30.286711</td>\n      <td>43.894998</td>\n      <td>0</td>\n    </tr>\n    <tr>\n      <th>2</th>\n      <td>35.847409</td>\n      <td>72.902198</td>\n      <td>0</td>\n    </tr>\n    <tr>\n      <th>3</th>\n      <td>60.182599</td>\n      <td>86.308552</td>\n      <td>1</td>\n    </tr>\n    <tr>\n      <th>4</th>\n      <td>79.032736</td>\n      <td>75.344376</td>\n      <td>1</td>\n    </tr>\n  </tbody>\n</table>\n</div>"
          },
          "metadata": {}
        }
      ]
    },
    {
      "metadata": {},
      "cell_type": "markdown",
      "source": "두 점수들의 스케터 플롯(scatter plot)를 만들고, 색상 코딩을 사용하여 예제가 양수(허용됨)인지  또는 음수(허용되지 않음)인지 시각화합니다."
    },
    {
      "metadata": {
        "trusted": true
      },
      "cell_type": "code",
      "source": "positive = data[data['Admitted'].isin([1])]\nnegative = data[data['Admitted'].isin([0])]\n\nfig, ax = plt.subplots(figsize=(8,6))\nax.scatter(positive['Exam 1'], positive['Exam 2'], s=50, c='k', marker='+', label='Admitted')\nax.scatter(negative['Exam 1'], negative['Exam 2'], s=50, c='y', marker='o', label='Not Admitted')\nax.legend()\nax.set_xlabel('Exam 1 Score')\nax.set_ylabel('Exam 2 Score')",
      "execution_count": 21,
      "outputs": [
        {
          "output_type": "execute_result",
          "execution_count": 21,
          "data": {
            "text/plain": "Text(0,0.5,'Exam 2 Score')"
          },
          "metadata": {}
        },
        {
          "output_type": "display_data",
          "data": {
            "image/png": "[encoded data removed]",
            "text/plain": "<matplotlib.figure.Figure at 0x7fc473b57ba8>"
          },
          "metadata": {}
        }
      ]
    },
    {
      "metadata": {},
      "cell_type": "markdown",
      "source": "### 구현\n#### 시그모이드 함수\n두 클래스 사이에 명확한 결정 경계가 있는 것처럼 보입니다. 이제 결과를 예측하기 위해 모델을 훈련 할 수 있도록 로지스틱 회귀를 구현해야 합니다. 실제 비용 함수로 시작하기 전에, 로지스틱 회귀 가설은 다음과 같이 정의됨을 기억하십시오.\n\n$$ h_\\theta(x) = g(\\mathbf {\\theta^T x}) $$\n\n여기에서, 함수 $g()$ 는 시그모이드 함수이며, 다음과 같이 정의됩니다.\n\n$$ g(z) = { 1 \\over (1 + e^{-z}) } $$\n\n첫 단계는 다음과 같이 이 함수를 구현하여 나머지 프로그램에서 호출 할 수 있도록 하는 것입니다. "
    },
    {
      "metadata": {
        "trusted": true
      },
      "cell_type": "code",
      "source": "def sigmoid(z):\n    # Problem-1 (5 points) ======================\n    sgmd = 1 / (1 + np.exp(-z))\n    #============================================\n    return sgmd",
      "execution_count": 22,
      "outputs": []
    },
    {
      "metadata": {},
      "cell_type": "markdown",
      "source": "sigmoid(z)를 호출하여 몇 가지 값을 테스트 해보십시오. x의 큰 양수 값의 경우 sigmoid는 1 에 가까워야 하지만 큰 음수 값의 경우 sigmoid는 0 에 가까워야 합니다. sigmoid(0) 은 정확히 0.5 가 됩니다. 코드는 벡터와 행렬에서도 작동해야 합니다. 행렬의 경우 함수는 모든 요소에서 시그모이드 함수를 수행해야 합니다."
    },
    {
      "metadata": {
        "trusted": true
      },
      "cell_type": "code",
      "source": "nums = np.arange(-10, 10, step=1)\n\nfig, ax = plt.subplots(figsize=(6,4))\nax.grid(True)\nax.plot(nums, sigmoid(nums), 'r')",
      "execution_count": 23,
      "outputs": [
        {
          "output_type": "execute_result",
          "execution_count": 23,
          "data": {
            "text/plain": "[<matplotlib.lines.Line2D at 0x7fc473b2c198>]"
          },
          "metadata": {}
        },
        {
          "output_type": "display_data",
          "data": {
            "image/png": "[encoded data removed]",
            "text/plain": "<matplotlib.figure.Figure at 0x7fc473b033c8>"
          },
          "metadata": {}
        }
      ]
    },
    {
      "metadata": {},
      "cell_type": "markdown",
      "source": "#### 비용함수(cost function)와 경사(gradient)\n이제 로지스틱 회귀에 대한 비용 함수와 그레디언트를 구현할 것입니다. costFunction()의 코드를 완성하여 비용과 그레디언트를 반환하십시오. 로지스틱 회귀 분석에서 비용 함수는 다음과 같다.\n\n$$ J(\\theta) = {1\\over m} \\sum_{i=1}^m [-y^{(i)} \\log(h_\\theta(x^{(i)})) - (1 - y^{(i)}) \\log(1-h_\\theta(x^{(i)}))] $$\n\n비용의 기울기는 $\\theta$ 와 동일한 길이의 벡터이며, 여기서 j 번째 요소 (j = 0,1, ..., n의 경우)는 다음과 같이 정의됩니다.\n$$ {\\partial J(\\theta) \\over \\partial \\theta_j } = {1\\over m} \\sum_{i=1}^m  (h_\\theta(x^{(i)})-y^{(i)}) x_j^{(i)}$$\n이 그레디언트는 선형회귀 기울기와 동일하게 보이지만, 선형회귀 분석에서는 $h_\\theta (x)$ 의 정의가 다르기 때문에 수식이 실제로는 다릅니다.\n"
    },
    {
      "metadata": {
        "trusted": true
      },
      "cell_type": "code",
      "source": "def cost(theta, X, y):\n    theta = np.matrix(theta)\n    X = np.matrix(X)\n    y = np.matrix(y)\n    # Problem-2 (10) ==============================================\n    first = np.multiply(-y, np.log(sigmoid(X * theta.T)))\n    second = np.multiply((1 - y), np.log(1 - sigmoid(X * theta.T)))\n    J = np.sum(first - second) / (len(X))    \n    #==============================================================\n    return J",
      "execution_count": 24,
      "outputs": []
    },
    {
      "metadata": {},
      "cell_type": "markdown",
      "source": "이제 선형회귀 분석을 위해 연습 1에서 했던 것과 비슷한 설정을 해야 합니다."
    },
    {
      "metadata": {
        "trusted": true
      },
      "cell_type": "code",
      "source": "# add a ones column - this makes the matrix multiplication work out easier\ndata.insert(0, 'Ones', 1)\n\n# set X (training data) and y (target variable)\ncols = data.shape[1]\nX = data.iloc[:,0:cols-1]\ny = data.iloc[:,cols-1:cols]\n\n# convert to numpy arrays and initalize the parameter array theta\nX = np.array(X.values)\ny = np.array(y.values)\ntheta = np.zeros(cols-1)",
      "execution_count": 25,
      "outputs": []
    },
    {
      "metadata": {},
      "cell_type": "markdown",
      "source": "배열의 모양을 신속하게 확인하여, 모든 것이 잘 보이는지 확인하십시오."
    },
    {
      "metadata": {
        "trusted": true
      },
      "cell_type": "code",
      "source": "X.shape, theta.shape, y.shape",
      "execution_count": 26,
      "outputs": [
        {
          "output_type": "execute_result",
          "execution_count": 26,
          "data": {
            "text/plain": "((100, 3), (3,), (100, 1))"
          },
          "metadata": {}
        }
      ]
    },
    {
      "metadata": {},
      "cell_type": "markdown",
      "source": "$\\theta$ 의 초기 매개변수를 사용하여 cost 함수를 호출하면, 비용은 약 0.693입니다."
    },
    {
      "metadata": {
        "trusted": true
      },
      "cell_type": "code",
      "source": "cost(theta, X, y)",
      "execution_count": 27,
      "outputs": [
        {
          "output_type": "execute_result",
          "execution_count": 27,
          "data": {
            "text/plain": "0.6931471805599453"
          },
          "metadata": {}
        }
      ]
    },
    {
      "metadata": {},
      "cell_type": "markdown",
      "source": "다음에는 트레이닝 데이터, 레이블 및 일부 매개 변수인 theta로 주어지는 그라디언트(매개 변수 업데이트)를 계산하는 함수, \"gradient()\"가 필요합니다."
    },
    {
      "metadata": {
        "trusted": true
      },
      "cell_type": "code",
      "source": "def gradient(theta, X, y):\n    theta = np.matrix(theta)\n    X = np.matrix(X)\n    y = np.matrix(y)\n    \n    parameters = int(theta.ravel().shape[1])\n    grad = np.zeros(parameters)\n    \n    # problem-3 (10) =============================\n    error = sigmoid(X * theta.T) - y     \n    \n    for i in range(parameters):\n        term = np.multiply(error, X[:,i])\n        grad[i] = np.sum(term) / len(X)\n    #=============================================\n    return grad",
      "execution_count": 28,
      "outputs": []
    },
    {
      "metadata": {},
      "cell_type": "markdown",
      "source": "이 함수에서는 실제로 그라디언트 디센트를 수행하지 않습니다. 단일 그라디언트 단계만 계산합니다. 우리는 파이썬을 사용하기 때문에 SciPy의 \"optimize\" 네임 스페이스를 사용하여 주어진 함수를 최적화하여 비용과 그라디언트를 계산합니다.\n\n우리의 데이터와 초기 매개 변수 값인 0을 사용하여 그라디언트 메서드에 대한 단일 호출을 살펴 보겠습니다."
    },
    {
      "metadata": {
        "trusted": true
      },
      "cell_type": "code",
      "source": "gradient(theta, X, y)",
      "execution_count": 29,
      "outputs": [
        {
          "output_type": "execute_result",
          "execution_count": 29,
          "data": {
            "text/plain": "array([ -0.1       , -12.00921659, -11.26284221])"
          },
          "metadata": {}
        }
      ]
    },
    {
      "metadata": {},
      "cell_type": "markdown",
      "source": "이제 SciPy의 truncated newton (TNC) 구현을 사용하여 최적의 매개 변수를 찾을 수 있습니다."
    },
    {
      "metadata": {
        "trusted": true
      },
      "cell_type": "code",
      "source": "import scipy.optimize as opt\nresult = opt.fmin_tnc(func=cost, x0=theta, fprime=gradient, args=(X, y))\nresult",
      "execution_count": 30,
      "outputs": [
        {
          "output_type": "execute_result",
          "execution_count": 30,
          "data": {
            "text/plain": "(array([-25.16131863,   0.20623159,   0.20147149]), 36, 0)"
          },
          "metadata": {}
        }
      ]
    },
    {
      "metadata": {
        "trusted": true
      },
      "cell_type": "code",
      "source": "t1 = np.arange(30,100,1)\nt2 = -(result[0][0] + t1 * result[0][1]) / result[0][2] \n\nfig, ax = plt.subplots(figsize=(8,6))\nax.scatter(positive['Exam 1'], positive['Exam 2'], s=50, c='k', marker='+', label='Admitted')\nax.scatter(negative['Exam 1'], negative['Exam 2'], s=50, c='y', marker='o', label='Not Admitted')\nax.plot( t1, t2, 'b-')\nax.legend()\nax.set_xlabel('Exam 1 Score')\nax.set_ylabel('Exam 2 Score')",
      "execution_count": 31,
      "outputs": [
        {
          "output_type": "execute_result",
          "execution_count": 31,
          "data": {
            "text/plain": "Text(0,0.5,'Exam 2 Score')"
          },
          "metadata": {}
        },
        {
          "output_type": "display_data",
          "data": {
            "image/png": "[encoded data removed]",
            "text/plain": "<matplotlib.figure.Figure at 0x7fc473b31a58>"
          },
          "metadata": {}
        }
      ]
    },
    {
      "metadata": {},
      "cell_type": "markdown",
      "source": "이 솔루션으로 우리 비용이 어떻게 생겼는지 보도록하겠습니다."
    },
    {
      "metadata": {
        "trusted": true
      },
      "cell_type": "code",
      "source": "cost(result[0], X, y)",
      "execution_count": 32,
      "outputs": [
        {
          "output_type": "execute_result",
          "execution_count": 32,
          "data": {
            "text/plain": "0.20349770158947458"
          },
          "metadata": {}
        }
      ]
    },
    {
      "metadata": {},
      "cell_type": "markdown",
      "source": "다음으로 우리는 학습 된 매개변수 theta를 사용하여 데이터 세트 X에 대한 예측을 출력하는 함수를 작성해야 합니다. 그런 다음, 이 함수를 사용하여 분류 기준의 학습 정확도에 점수를 매길 수 있습니다."
    },
    {
      "metadata": {
        "trusted": true
      },
      "cell_type": "code",
      "source": "def predict(theta, X):\n    # (4) 10 points ======================================\n    probability = sigmoid(X * theta.T)\n    return [1 if x >= 0.5 else 0 for x in probability]\n    # ==================================================== ",
      "execution_count": 33,
      "outputs": []
    },
    {
      "metadata": {
        "trusted": true
      },
      "cell_type": "code",
      "source": "theta_min = np.matrix(result[0])\npredictions = predict(theta_min, X)\ncorrect = [1 if ((a == 1 and b == 1) or (a == 0 and b == 0)) else 0 for (a, b) in zip(predictions, y)]\naccuracy = (sum(map(int, correct)) % len(correct))\nprint('accuracy =',accuracy,'%')\n#print'accuracy = {0}%'.format(accuracy)",
      "execution_count": 34,
      "outputs": [
        {
          "output_type": "stream",
          "text": "accuracy = 89 %\n",
          "name": "stdout"
        }
      ]
    },
    {
      "metadata": {},
      "cell_type": "markdown",
      "source": "## 정규화된 로지스틱 회귀(Regularized logistic regression)\n\n- 이 연습의 두 번째 부분에서는 정규화를 추가하여 로지스틱 회귀 알고리즘을 개선합니다. 정규화는 알고리즘이 \"더 단순한\" 모델을 선호하게 만드는 비용 함수의 용어입니다 (이 경우 모델은 더 작은 계수). 이론은 과적응(overfitting)을 최소화하고 모델의 일반화 능력을 향상시키는 데 도움이 된다는 것입니다. \n\n- 당신이 공장의 제품 관리자이고 서로 다른 두 가지 테스트에서 일부 마이크로 칩에 대한 테스트 결과가 있다고 가정합니다. 이 두 가지 검사에서 마이크로 칩을 받아들이거나 거절해야하는지 판단하고 싶습니다. 의사 결정을 돕기 위해 과거의 마이크로 칩에 대한 테스트 결과의 데이터 세트가 있으며 여기서부터 로지스틱 회귀 모델을 구축 할 수 있습니다.\n\n- 파트 1과 마찬가지로 데이터를 시각화하여 시작합시다."
    },
    {
      "metadata": {
        "trusted": true
      },
      "cell_type": "code",
      "source": "import numpy as np\nimport pandas as pd\nimport matplotlib.pyplot as plt\n%matplotlib inline\n\nimport os\npath = os.getcwd() + '/data/ex2data2.txt'\ndata2 = pd.read_csv(path, header=None, names=['Test 1', 'Test 2', 'Accepted'])\ndata2.head()",
      "execution_count": 35,
      "outputs": [
        {
          "output_type": "error",
          "ename": "FileNotFoundError",
          "evalue": "File b'/home/nbuser/library/data/ex2data2.txt' does not exist",
          "traceback": [
            "\u001b[0;31m---------------------------------------------------------------------------\u001b[0m",
            "\u001b[0;31mFileNotFoundError\u001b[0m                         Traceback (most recent call last)",
            "\u001b[0;32m<ipython-input-35-2ca673210950>\u001b[0m in \u001b[0;36m<module>\u001b[0;34m()\u001b[0m\n\u001b[1;32m      6\u001b[0m \u001b[0;32mimport\u001b[0m \u001b[0mos\u001b[0m\u001b[0;34m\u001b[0m\u001b[0m\n\u001b[1;32m      7\u001b[0m \u001b[0mpath\u001b[0m \u001b[0;34m=\u001b[0m \u001b[0mos\u001b[0m\u001b[0;34m.\u001b[0m\u001b[0mgetcwd\u001b[0m\u001b[0;34m(\u001b[0m\u001b[0;34m)\u001b[0m \u001b[0;34m+\u001b[0m \u001b[0;34m'/data/ex2data2.txt'\u001b[0m\u001b[0;34m\u001b[0m\u001b[0m\n\u001b[0;32m----> 8\u001b[0;31m \u001b[0mdata2\u001b[0m \u001b[0;34m=\u001b[0m \u001b[0mpd\u001b[0m\u001b[0;34m.\u001b[0m\u001b[0mread_csv\u001b[0m\u001b[0;34m(\u001b[0m\u001b[0mpath\u001b[0m\u001b[0;34m,\u001b[0m \u001b[0mheader\u001b[0m\u001b[0;34m=\u001b[0m\u001b[0;32mNone\u001b[0m\u001b[0;34m,\u001b[0m \u001b[0mnames\u001b[0m\u001b[0;34m=\u001b[0m\u001b[0;34m[\u001b[0m\u001b[0;34m'Test 1'\u001b[0m\u001b[0;34m,\u001b[0m \u001b[0;34m'Test 2'\u001b[0m\u001b[0;34m,\u001b[0m \u001b[0;34m'Accepted'\u001b[0m\u001b[0;34m]\u001b[0m\u001b[0;34m)\u001b[0m\u001b[0;34m\u001b[0m\u001b[0m\n\u001b[0m\u001b[1;32m      9\u001b[0m \u001b[0mdata2\u001b[0m\u001b[0;34m.\u001b[0m\u001b[0mhead\u001b[0m\u001b[0;34m(\u001b[0m\u001b[0;34m)\u001b[0m\u001b[0;34m\u001b[0m\u001b[0m\n",
            "\u001b[0;32m~/anaconda3_420/lib/python3.5/site-packages/pandas/io/parsers.py\u001b[0m in \u001b[0;36mparser_f\u001b[0;34m(filepath_or_buffer, sep, delimiter, header, names, index_col, usecols, squeeze, prefix, mangle_dupe_cols, dtype, engine, converters, true_values, false_values, skipinitialspace, skiprows, nrows, na_values, keep_default_na, na_filter, verbose, skip_blank_lines, parse_dates, infer_datetime_format, keep_date_col, date_parser, dayfirst, iterator, chunksize, compression, thousands, decimal, lineterminator, quotechar, quoting, escapechar, comment, encoding, dialect, tupleize_cols, error_bad_lines, warn_bad_lines, skipfooter, skip_footer, doublequote, delim_whitespace, as_recarray, compact_ints, use_unsigned, low_memory, buffer_lines, memory_map, float_precision)\u001b[0m\n\u001b[1;32m    644\u001b[0m                     skip_blank_lines=skip_blank_lines)\n\u001b[1;32m    645\u001b[0m \u001b[0;34m\u001b[0m\u001b[0m\n\u001b[0;32m--> 646\u001b[0;31m         \u001b[0;32mreturn\u001b[0m \u001b[0m_read\u001b[0m\u001b[0;34m(\u001b[0m\u001b[0mfilepath_or_buffer\u001b[0m\u001b[0;34m,\u001b[0m \u001b[0mkwds\u001b[0m\u001b[0;34m)\u001b[0m\u001b[0;34m\u001b[0m\u001b[0m\n\u001b[0m\u001b[1;32m    647\u001b[0m \u001b[0;34m\u001b[0m\u001b[0m\n\u001b[1;32m    648\u001b[0m     \u001b[0mparser_f\u001b[0m\u001b[0;34m.\u001b[0m\u001b[0m__name__\u001b[0m \u001b[0;34m=\u001b[0m \u001b[0mname\u001b[0m\u001b[0;34m\u001b[0m\u001b[0m\n",
            "\u001b[0;32m~/anaconda3_420/lib/python3.5/site-packages/pandas/io/parsers.py\u001b[0m in \u001b[0;36m_read\u001b[0;34m(filepath_or_buffer, kwds)\u001b[0m\n\u001b[1;32m    387\u001b[0m \u001b[0;34m\u001b[0m\u001b[0m\n\u001b[1;32m    388\u001b[0m     \u001b[0;31m# Create the parser.\u001b[0m\u001b[0;34m\u001b[0m\u001b[0;34m\u001b[0m\u001b[0m\n\u001b[0;32m--> 389\u001b[0;31m     \u001b[0mparser\u001b[0m \u001b[0;34m=\u001b[0m \u001b[0mTextFileReader\u001b[0m\u001b[0;34m(\u001b[0m\u001b[0mfilepath_or_buffer\u001b[0m\u001b[0;34m,\u001b[0m \u001b[0;34m**\u001b[0m\u001b[0mkwds\u001b[0m\u001b[0;34m)\u001b[0m\u001b[0;34m\u001b[0m\u001b[0m\n\u001b[0m\u001b[1;32m    390\u001b[0m \u001b[0;34m\u001b[0m\u001b[0m\n\u001b[1;32m    391\u001b[0m     \u001b[0;32mif\u001b[0m \u001b[0;34m(\u001b[0m\u001b[0mnrows\u001b[0m \u001b[0;32mis\u001b[0m \u001b[0;32mnot\u001b[0m \u001b[0;32mNone\u001b[0m\u001b[0;34m)\u001b[0m \u001b[0;32mand\u001b[0m \u001b[0;34m(\u001b[0m\u001b[0mchunksize\u001b[0m \u001b[0;32mis\u001b[0m \u001b[0;32mnot\u001b[0m \u001b[0;32mNone\u001b[0m\u001b[0;34m)\u001b[0m\u001b[0;34m:\u001b[0m\u001b[0;34m\u001b[0m\u001b[0m\n",
            "\u001b[0;32m~/anaconda3_420/lib/python3.5/site-packages/pandas/io/parsers.py\u001b[0m in \u001b[0;36m__init__\u001b[0;34m(self, f, engine, **kwds)\u001b[0m\n\u001b[1;32m    728\u001b[0m             \u001b[0mself\u001b[0m\u001b[0;34m.\u001b[0m\u001b[0moptions\u001b[0m\u001b[0;34m[\u001b[0m\u001b[0;34m'has_index_names'\u001b[0m\u001b[0;34m]\u001b[0m \u001b[0;34m=\u001b[0m \u001b[0mkwds\u001b[0m\u001b[0;34m[\u001b[0m\u001b[0;34m'has_index_names'\u001b[0m\u001b[0;34m]\u001b[0m\u001b[0;34m\u001b[0m\u001b[0m\n\u001b[1;32m    729\u001b[0m \u001b[0;34m\u001b[0m\u001b[0m\n\u001b[0;32m--> 730\u001b[0;31m         \u001b[0mself\u001b[0m\u001b[0;34m.\u001b[0m\u001b[0m_make_engine\u001b[0m\u001b[0;34m(\u001b[0m\u001b[0mself\u001b[0m\u001b[0;34m.\u001b[0m\u001b[0mengine\u001b[0m\u001b[0;34m)\u001b[0m\u001b[0;34m\u001b[0m\u001b[0m\n\u001b[0m\u001b[1;32m    731\u001b[0m \u001b[0;34m\u001b[0m\u001b[0m\n\u001b[1;32m    732\u001b[0m     \u001b[0;32mdef\u001b[0m \u001b[0mclose\u001b[0m\u001b[0;34m(\u001b[0m\u001b[0mself\u001b[0m\u001b[0;34m)\u001b[0m\u001b[0;34m:\u001b[0m\u001b[0;34m\u001b[0m\u001b[0m\n",
            "\u001b[0;32m~/anaconda3_420/lib/python3.5/site-packages/pandas/io/parsers.py\u001b[0m in \u001b[0;36m_make_engine\u001b[0;34m(self, engine)\u001b[0m\n\u001b[1;32m    921\u001b[0m     \u001b[0;32mdef\u001b[0m \u001b[0m_make_engine\u001b[0m\u001b[0;34m(\u001b[0m\u001b[0mself\u001b[0m\u001b[0;34m,\u001b[0m \u001b[0mengine\u001b[0m\u001b[0;34m=\u001b[0m\u001b[0;34m'c'\u001b[0m\u001b[0;34m)\u001b[0m\u001b[0;34m:\u001b[0m\u001b[0;34m\u001b[0m\u001b[0m\n\u001b[1;32m    922\u001b[0m         \u001b[0;32mif\u001b[0m \u001b[0mengine\u001b[0m \u001b[0;34m==\u001b[0m \u001b[0;34m'c'\u001b[0m\u001b[0;34m:\u001b[0m\u001b[0;34m\u001b[0m\u001b[0m\n\u001b[0;32m--> 923\u001b[0;31m             \u001b[0mself\u001b[0m\u001b[0;34m.\u001b[0m\u001b[0m_engine\u001b[0m \u001b[0;34m=\u001b[0m \u001b[0mCParserWrapper\u001b[0m\u001b[0;34m(\u001b[0m\u001b[0mself\u001b[0m\u001b[0;34m.\u001b[0m\u001b[0mf\u001b[0m\u001b[0;34m,\u001b[0m \u001b[0;34m**\u001b[0m\u001b[0mself\u001b[0m\u001b[0;34m.\u001b[0m\u001b[0moptions\u001b[0m\u001b[0;34m)\u001b[0m\u001b[0;34m\u001b[0m\u001b[0m\n\u001b[0m\u001b[1;32m    924\u001b[0m         \u001b[0;32melse\u001b[0m\u001b[0;34m:\u001b[0m\u001b[0;34m\u001b[0m\u001b[0m\n\u001b[1;32m    925\u001b[0m             \u001b[0;32mif\u001b[0m \u001b[0mengine\u001b[0m \u001b[0;34m==\u001b[0m \u001b[0;34m'python'\u001b[0m\u001b[0;34m:\u001b[0m\u001b[0;34m\u001b[0m\u001b[0m\n",
            "\u001b[0;32m~/anaconda3_420/lib/python3.5/site-packages/pandas/io/parsers.py\u001b[0m in \u001b[0;36m__init__\u001b[0;34m(self, src, **kwds)\u001b[0m\n\u001b[1;32m   1388\u001b[0m         \u001b[0mkwds\u001b[0m\u001b[0;34m[\u001b[0m\u001b[0;34m'allow_leading_cols'\u001b[0m\u001b[0;34m]\u001b[0m \u001b[0;34m=\u001b[0m \u001b[0mself\u001b[0m\u001b[0;34m.\u001b[0m\u001b[0mindex_col\u001b[0m \u001b[0;32mis\u001b[0m \u001b[0;32mnot\u001b[0m \u001b[0;32mFalse\u001b[0m\u001b[0;34m\u001b[0m\u001b[0m\n\u001b[1;32m   1389\u001b[0m \u001b[0;34m\u001b[0m\u001b[0m\n\u001b[0;32m-> 1390\u001b[0;31m         \u001b[0mself\u001b[0m\u001b[0;34m.\u001b[0m\u001b[0m_reader\u001b[0m \u001b[0;34m=\u001b[0m \u001b[0m_parser\u001b[0m\u001b[0;34m.\u001b[0m\u001b[0mTextReader\u001b[0m\u001b[0;34m(\u001b[0m\u001b[0msrc\u001b[0m\u001b[0;34m,\u001b[0m \u001b[0;34m**\u001b[0m\u001b[0mkwds\u001b[0m\u001b[0;34m)\u001b[0m\u001b[0;34m\u001b[0m\u001b[0m\n\u001b[0m\u001b[1;32m   1391\u001b[0m \u001b[0;34m\u001b[0m\u001b[0m\n\u001b[1;32m   1392\u001b[0m         \u001b[0;31m# XXX\u001b[0m\u001b[0;34m\u001b[0m\u001b[0;34m\u001b[0m\u001b[0m\n",
            "\u001b[0;32mpandas/parser.pyx\u001b[0m in \u001b[0;36mpandas.parser.TextReader.__cinit__ (pandas/parser.c:4184)\u001b[0;34m()\u001b[0m\n",
            "\u001b[0;32mpandas/parser.pyx\u001b[0m in \u001b[0;36mpandas.parser.TextReader._setup_parser_source (pandas/parser.c:8449)\u001b[0;34m()\u001b[0m\n",
            "\u001b[0;31mFileNotFoundError\u001b[0m: File b'/home/nbuser/library/data/ex2data2.txt' does not exist"
          ]
        }
      ]
    },
    {
      "metadata": {
        "trusted": true
      },
      "cell_type": "code",
      "source": "positive = data2[data2['Accepted'].isin([1])]\nnegative = data2[data2['Accepted'].isin([0])]\n\nfig, ax = plt.subplots(figsize=(8,6))\nax.scatter(positive['Test 1'], positive['Test 2'], s=50, c='k', marker='+', label='Accepted')\nax.scatter(negative['Test 1'], negative['Test 2'], s=50, c='y', marker='o', label='Rejected')\nax.legend()\nax.set_xlabel('Test 1 Score')\nax.set_ylabel('Test 2 Score')",
      "execution_count": null,
      "outputs": []
    },
    {
      "metadata": {},
      "cell_type": "markdown",
      "source": "- 이 데이터는 이전 예제보다 약간 더 복잡해 보입니다. 특히 이 데이터에서 잘 수행 할 선형 의사 결정 경계가 없음을 알 수 있습니다. 로지스틱 회귀와 같은 선형 기법을 사용하여 이를 처리하는 한 가지 방법은 원래 특징들의 다항식에서 파생된 특징들을 생성하는 것 입니다. 먼저 다항식 특징을 만들어 봅시다.\n\n### 특징 매핑\n데이터를 더 잘 맞추는 한 가지 방법은 각 데이터 요소에서 더 많은 특징을 만드는 것입니다. 다음의 함수 mapFeature에서 우리는 x1과 x2의 모든 다항식 항으로 특징를 6 차까지 매핑합니다.\n\n$$ mapFeature([x_1, x_2],6) = [ 1, x_1, x_2, x_1^2, x_1 x_2 , x_2^2, x_1^3, \\cdots, x_1x_2^5, x_2^6]^T $$ \n"
    },
    {
      "metadata": {
        "trusted": true
      },
      "cell_type": "code",
      "source": "def mapFeature(data, degree):\n    x1 = data['Test 1']\n    x2 = data['Test 2']\n\n    data.insert(3, 'Ones', 1)\n\n    for i in range(1, degree+2):\n        for j in range(0, i):\n            data['F' + str(i) + str(j)] = np.power(x1, i-j) * np.power(x2, j)\n\n    data.drop('Test 1', axis=1, inplace=True)\n    data.drop('Test 2', axis=1, inplace=True)\n    return data\n\ndata2 = mapFeature(data2, 3)\ndata2.head()",
      "execution_count": null,
      "outputs": []
    },
    {
      "metadata": {},
      "cell_type": "markdown",
      "source": "이 매핑의 결과로 두 개의 피쳐 (두 개의 QA 테스트의 점수) 벡터가 28 차원 벡터로 변형되었습니다. 이 더 높은 차원의 특성 벡터에 대해 학습 된 로지스틱 회귀 분류자는보다 복잡한 결정 경계를 가지며 2 차원 플롯에서 그릴 때 비선형으로 나타납니다.\n\n특 징 매핑을 사용하면 보다 표현력있는 분류 기준을 만들 수 있지만 지나치게 적합(적응)되기 쉽습니다. 연습의 다음 부분에서는 데이터에 맞게 정규화 된 로지스틱 회귀를 구현하고 정규화가 어떻게 과적합 문제를 해결하는 데 도움이되는지 직접 확인하게 됩니다.\n\n이제 정규화 항을 포함하기 위해 파트 1의 비용 및 그래디언트 함수를 수정해야 합니다. 먼저 비용 함수 :"
    },
    {
      "metadata": {},
      "cell_type": "markdown",
      "source": "로지스틱 회귀에서의 정규화 된 비용 함수는 다음과 같다.\n\n$$ J(\\theta) = {1 \\over m} \\sum_{i=1}^m [-y^{(i)} \\log (h_\\theta (x^{(i)}))- (1-y^{(i)} )\\log (1-h_\\theta (x^{(i)}))] + {\\lambda \\over 2m} \\sum_{j=1}^n \\theta_j^2 $$\n\n매개변수 $\\theta_0$을 정규화해서는 안됩니다. "
    },
    {
      "metadata": {
        "trusted": true
      },
      "cell_type": "code",
      "source": "def costReg(theta, X, y, reg):\n    theta = np.matrix(theta)\n    X = np.matrix(X)\n    y = np.matrix(y)\n    first = np.multiply(-y, np.log(sigmoid(X * theta.T)))\n    second = np.multiply((1 - y), np.log(1 - sigmoid(X * theta.T)))\n    reg = (reg / 2 * len(X)) * np.sum(np.power(theta[:,1:theta.shape[1]], 2))\n    return np.sum(first - second) / (len(X)) + reg",
      "execution_count": null,
      "outputs": []
    },
    {
      "metadata": {},
      "cell_type": "markdown",
      "source": "비용 함수의 기울기는 j 번째 요소가 다음과 같이 정의되는 벡터입니다.\n$$ {\\partial J (\\theta) \\over \\partial \\theta_0 } = {1\\over m }\\sum_{i=1}^m (h_\\theta (x^{(i)}) - y^{(i)})x_j^{(i)}    \\quad \\textrm{for} \\quad j=0 $$\n$$ {\\partial J (\\theta) \\over \\partial \\theta_0 } = {1\\over m }\\sum_{i=1}^m (h_\\theta (x^{(i)}) - y^{(i)})x_j^{(i)}    + {\\lambda \\over m} \\theta_j \\quad \\textrm{for} \\quad j\\ge 0 $$\n\n\n방정식에서 \"reg\"용어를 주목하십시오. 또한 \"학습 속도\"매개 변수 추가에 유의하십시오. 이것은 정규화 용어의 효과를 제어하는 하이퍼 매개 변수입니다. 이제 그라디언트 함수에 정규화를 추가해야 합니다."
    },
    {
      "metadata": {
        "trusted": true
      },
      "cell_type": "code",
      "source": "def gradientReg(theta, X, y, reg):\n    theta = np.matrix(theta)\n    X = np.matrix(X)\n    y = np.matrix(y)\n    \n    parameters = int(theta.ravel().shape[1])\n    grad = np.zeros(parameters)\n    \n    error = sigmoid(X * theta.T) - y\n    \n    for i in range(parameters):\n        term = np.multiply(error, X[:,i])\n        \n        if (i == 0):\n            grad[i] = np.sum(term) / len(X)\n        else:\n            grad[i] = (np.sum(term) / len(X)) + ((reg / len(X)) * theta[:,i])\n    \n    return grad",
      "execution_count": null,
      "outputs": []
    },
    {
      "metadata": {},
      "cell_type": "markdown",
      "source": "1 부에서 했던 것처럼 변수를 초기화하십시오."
    },
    {
      "metadata": {
        "trusted": true
      },
      "cell_type": "code",
      "source": "# set X and y (remember from above that we moved the label to column 0)\ncols = data2.shape[1]\nX2 = data2.iloc[:,1:cols]\ny2 = data2.iloc[:,0:1]\n\n# convert to numpy arrays and initalize the parameter array theta\nX2 = np.array(X2.values)\ny2 = np.array(y2.values)\ntheta2 = np.zeros(11)",
      "execution_count": null,
      "outputs": []
    },
    {
      "metadata": {},
      "cell_type": "markdown",
      "source": "우리의 학습 속도를 합리적인 값으로 초기화합시다. 필요한 경우 나중에 처리 할 수 있습니다 (예 : 페널티가 너무 강하거나 충분하지 않은 경우)."
    },
    {
      "metadata": {
        "trusted": true
      },
      "cell_type": "code",
      "source": "reg = 0.01",
      "execution_count": null,
      "outputs": []
    },
    {
      "metadata": {},
      "cell_type": "markdown",
      "source": "이제 계산이 작동하는지 확인하기 위해 theta에 대한 기본값 (0)으로 새 정규화 함수를 호출 해 봅시다."
    },
    {
      "metadata": {
        "trusted": true
      },
      "cell_type": "code",
      "source": "costReg(theta2, X2, y2, reg)",
      "execution_count": null,
      "outputs": []
    },
    {
      "metadata": {
        "trusted": true
      },
      "cell_type": "code",
      "source": "gradientReg(theta2, X2, y2, reg)",
      "execution_count": null,
      "outputs": []
    },
    {
      "metadata": {},
      "cell_type": "markdown",
      "source": "이제 파트 1의 동일한 최적화 함수를 사용하여 최적의 솔루션을 계산할 수 있습니다."
    },
    {
      "metadata": {
        "trusted": true
      },
      "cell_type": "code",
      "source": "result2 = opt.fmin_tnc(func=costReg, x0=theta2, fprime=gradientReg, args=(X2, y2, reg))\ntheta2 = result2[0]\ntheta2",
      "execution_count": null,
      "outputs": []
    },
    {
      "metadata": {},
      "cell_type": "markdown",
      "source": "마지막으로 파트 1의 예측 함수를 사용하여 솔루션이 훈련 데이터에 얼마나 정확한지 확인할 수 있습니다."
    },
    {
      "metadata": {
        "trusted": true
      },
      "cell_type": "code",
      "source": "theta_min = np.matrix(theta2)\npredictions = predict(theta_min, X2)\ncorrect = [1 if ((a == 1 and b == 1) or (a == 0 and b == 0)) else 0 for (a, b) in zip(predictions, y2)]\naccuracy = (sum(map(int, correct)) % len(correct))\nprint('accuracy =',accuracy,'%')\n# print 'accuracy = {0}%'.format(accuracy)",
      "execution_count": null,
      "outputs": []
    },
    {
      "metadata": {},
      "cell_type": "markdown",
      "source": "이러한 알고리즘을 처음부터 구현했지만 scikit-learn과 같은 고수준의 파이썬 라이브러리를 사용하여이 문제를 해결할 수도 있습니다."
    },
    {
      "metadata": {
        "trusted": true
      },
      "cell_type": "code",
      "source": "from sklearn import linear_model\nmodel = linear_model.LogisticRegression(penalty='l2', C=1.0)\nmodel.fit(X2, y2.ravel())",
      "execution_count": null,
      "outputs": []
    },
    {
      "metadata": {
        "trusted": true
      },
      "cell_type": "code",
      "source": "model.score(X2, y2)",
      "execution_count": null,
      "outputs": []
    },
    {
      "metadata": {},
      "cell_type": "markdown",
      "source": "정확도는 방금 계산 한 것보다 훨씬 낮지 만,이 결과는 scikit-learn에서 제공하는 기본 매개 변수를 사용하고 있음을 명심하십시오. 이전 결과에서 얻은 정확도와 동일한 정확성을 얻으려면 매개 변수 튜닝이 필요할 것입니다.\n\n그것은 연습 2를위한 모든 것입니다! 다음 연습을 위해 계속 지켜봐주십시오. 여기서 우리는 멀티 클래스 이미지 분류를 다루게 될 것입니다."
    },
    {
      "metadata": {
        "trusted": true
      },
      "cell_type": "code",
      "source": "import numpy as np\nimport pandas as pd\nimport matplotlib.pyplot as plt\n%matplotlib inline\n\nimport os\npath = os.getcwd() + '/data/ex2data2.txt'\ndata2 = pd.read_csv(path, header=None, names=['Test 1', 'Test 2', 'Accepted'])\ndata2.head()\n\npositive = data2[data2['Accepted'].isin([1])]\nnegative = data2[data2['Accepted'].isin([0])]\n\nfig, ax = plt.subplots(figsize=(8,6))\nax.scatter(positive['Test 1'], positive['Test 2'], s=50, c='k', marker='+', label='Accepted')\nax.scatter(negative['Test 1'], negative['Test 2'], s=50, c='y', marker='o', label='Rejected')\nax.legend()\nax.set_xlabel('Test 1 Score')\nax.set_ylabel('Test 2 Score')\n\ndelta = 0.02\nt1, t2 = meshgrid(\n    arange(-1.2, 1.2, delta),\n    arange(-1.2, 1.2, delta)\n)\n\nmatplotlib.pyplot.contour(\n    t1, t2,\n    theta2[0] + theta2[1]*t1 + theta2[2]*t2 + \n    theta2[3]*t1*t1 + theta2[4]*t1*t2 + theta2[5]*t2*t2 + \n    theta2[6]*t1*t1*t1 + theta2[7]*t2*t1*t1 + theta2[8]*t1*t2*t2 + theta2[9]*t2*t2*t2,\n    [0]\n)\nmatplotlib.pyplot.show()\n",
      "execution_count": null,
      "outputs": []
    },
    {
      "metadata": {
        "trusted": true
      },
      "cell_type": "code",
      "source": "",
      "execution_count": null,
      "outputs": []
    }
  ],
  "metadata": {
    "kernelspec": {
      "name": "python3",
      "display_name": "Python 3",
      "language": "python"
    },
    "language_info": {
      "mimetype": "text/x-python",
      "nbconvert_exporter": "python",
      "name": "python",
      "file_extension": ".py",
      "version": "3.5.4",
      "pygments_lexer": "ipython3",
      "codemirror_mode": {
        "version": 3,
        "name": "ipython"
      }
    }
  },
  "nbformat": 4,
  "nbformat_minor": 2
}